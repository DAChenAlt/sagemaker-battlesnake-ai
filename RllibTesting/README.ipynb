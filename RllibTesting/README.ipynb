{
 "cells": [
  {
   "cell_type": "markdown",
   "metadata": {},
   "source": [
    "# Introduction\n",
    "\n",
    "---\n",
    "\n",
    "**This is a work in progress...**\n",
    "\n",
    "---\n",
    "\n",
    "This notebook outlines the steps required to build a custom SageMaker RL container that includes recent versions of [TensorFlow (v2.1)](https://www.tensorflow.org/) and [Ray RLlib (v0.8.2)](https://ray.readthedocs.io/en/latest/rllib.html#).\n",
    "\n",
    "The notebook then shows how to use the custom container to create a SageMaker training job. The training job applies RLlib's multi-agent PPO to the [Battlesnake gym](https://github.com/awslabs/sagemaker-battlesnake-ai) in order to train a unique Battlesnake policy model per agent. The intention is to use the trained models to compete in the online [Battlesnake competition](https://play.battlesnake.com/).\n",
    "\n",
    "The resulting models will be stored in S3 as RLlib checkpoints (note: these are not native TensorFlow models, although we __can__ export those too)\n",
    "\n",
    "Both GPU and CPU training instances are supported. The training script will use all CPUs and any GPUs that are present, by default. Only single-instance training is supported at this time.\n",
    "\n",
    "Inference via SageMaker endpoints is not yet supported via this notebook, although the PPO models can be evaluated using an RLlib rollout script (ask perrysc@) and the training results can also be viewed in Tensorboard (extract the model.tar.gz file and point Tensorboard to the resulting directory via --logdir)\n",
    "\n",
    "**Note:** the custom container is only required until the new version of the managed TF/RLlib container is released by the SageMaker team (soon). See: https://github.com/aws/sagemaker-python-sdk/tree/master/src/sagemaker/rl\n",
    "\n",
    "### Known Issues\n",
    "* The training script generates a load of `Box bound precision lowered by casting to float32` warnings due to a cast to np.float32. The warnings appear benign, but should be fixed\n",
    "* Running the training script with a map size other than 11x11 will likely require that you edit the `cnn_tf.py` file and adjust the CNN layer configuration. This should be fixed so that it happens automatically, but that hasn't been implemented yet\n",
    "* The default hyperparameters will produce somewhat interesting/functional models, but no HPO has taken place yet\n",
    "* Because this custom container is built on the SageMaker RL TensorFlow container, it expects that TensorFlow models will be generated. As such, a successful RLlib training run will generate a warning at the end of the job `Your model will NOT be servable with SageMaker TensorFlow Serving container`, even though the job was successful and the model artifacts have been uploaded to S3.\n",
    "* Currently, the Dockerfile copies the training script (along with the entire working directory) into /opt/ml/code/ within the container. This works, but probably isn't good practice.\n",
    "* The training example uses a generic SageMaker `Estimator` instead of an `RLEstimator`. This is due to the fact that `RLEstimator` is tied to older versions of TensorFlow / Ray RLlib. See: https://github.com/aws/sagemaker-python-sdk/tree/master/src/sagemaker/rl\n",
    "  * Moving to an RLEstimator should be relatively easy once the updated SageMaker RL container is released.\n",
    "* Model artifacts and training results / checkpoints are currently included in the same model.tar.gz output file\n",
    "* .. plus probably some issues I've missed\n",
    "---\n",
    "\n",
    "The following steps should be executed on a SageMaker Notebook. Your Notebook's associated IAM role should be adjusted to allow access to S3 and ECR.\n",
    "\n",
    "---"
   ]
  },
  {
   "cell_type": "markdown",
   "metadata": {},
   "source": [
    "<br/>\n",
    "\n",
    "## Create a custom TF 2.1 / Ray RLlib 0.8.2 container for training"
   ]
  },
  {
   "cell_type": "markdown",
   "metadata": {},
   "source": [
    "First, let's use git to pull down the latest version of the Battlesnake gym into our working directory and symlink the gym source directory as 'battlesnake_gym'."
   ]
  },
  {
   "cell_type": "code",
   "execution_count": null,
   "metadata": {},
   "outputs": [],
   "source": [
    "!git clone https://github.com/awslabs/sagemaker-battlesnake-ai.git"
   ]
  },
  {
   "cell_type": "code",
   "execution_count": null,
   "metadata": {},
   "outputs": [],
   "source": [
    "!ln -s ./sagemaker-battlesnake-ai/TrainingEnvironment/battlesnake_gym/ battlesnake_gym"
   ]
  },
  {
   "cell_type": "markdown",
   "metadata": {},
   "source": [
    "Login to the SageMaker container registry so we can pull down the existing SageMaker TF 2.1 image for our base"
   ]
  },
  {
   "cell_type": "code",
   "execution_count": null,
   "metadata": {
    "scrolled": true
   },
   "outputs": [],
   "source": [
    "!$(aws ecr get-login --no-include-email --region us-west-2 --registry-ids 763104351884)"
   ]
  },
  {
   "cell_type": "markdown",
   "metadata": {},
   "source": [
    "(Create an ECR if you haven't done so already - this step has been omitted). Login to your personal container registry so you can push your custom image to it in a subsequent step"
   ]
  },
  {
   "cell_type": "code",
   "execution_count": null,
   "metadata": {
    "scrolled": true
   },
   "outputs": [],
   "source": [
    "!aws ecr get-login-password --region us-west-2 | docker login \\\n",
    "--username AWS --password-stdin 599069043765.dkr.ecr.us-west-2.amazonaws.com/bs-rllib"
   ]
  },
  {
   "cell_type": "markdown",
   "metadata": {},
   "source": [
    "Adjust your training script, rewards, etc. as required. Then build the custom container. You will need to repeat the following steps whenever you make any changes to the training script or Battlesnake gym."
   ]
  },
  {
   "cell_type": "code",
   "execution_count": null,
   "metadata": {
    "scrolled": true
   },
   "outputs": [],
   "source": [
    "!docker build -t bs-rllib ."
   ]
  },
  {
   "cell_type": "markdown",
   "metadata": {},
   "source": [
    "Tag the new image and push it to your container registry"
   ]
  },
  {
   "cell_type": "code",
   "execution_count": null,
   "metadata": {
    "scrolled": true
   },
   "outputs": [],
   "source": [
    "!docker tag bs-rllib:latest 599069043765.dkr.ecr.us-west-2.amazonaws.com/bs-rllib:latest\n",
    "!docker push 599069043765.dkr.ecr.us-west-2.amazonaws.com/bs-rllib:latest"
   ]
  },
  {
   "cell_type": "code",
   "execution_count": null,
   "metadata": {},
   "outputs": [],
   "source": [
    "!docker image ls"
   ]
  },
  {
   "cell_type": "markdown",
   "metadata": {},
   "source": [
    "<br/>\n",
    "\n",
    "## Initiate a SageMaker training job"
   ]
  },
  {
   "cell_type": "code",
   "execution_count": null,
   "metadata": {},
   "outputs": [],
   "source": [
    "from sagemaker.estimator import Estimator\n",
    "from sagemaker import get_execution_role"
   ]
  },
  {
   "cell_type": "code",
   "execution_count": null,
   "metadata": {
    "scrolled": true
   },
   "outputs": [],
   "source": [
    "# replace with the link to your custom image\n",
    "custom_image = '599069043765.dkr.ecr.us-west-2.amazonaws.com/bs-rllib:latest'\n",
    "\n",
    "role = get_execution_role()\n",
    "print(role)\n",
    "\n",
    "# example hyperparameters.. many more are available - see train_cnn_ppo_tf.py for details\n",
    "hyperparameters = { \"num-iters\": 10, # Increase this when you are actually building models\n",
    "                    \"num-agents\": 5,\n",
    "                    \"lr\": 5.0e-4,\n",
    "                  }\n",
    "\n",
    "estimator = Estimator(image_name=custom_image,\n",
    "                      role=role,\n",
    "                      train_instance_count=1,   # At present, only a single instance is supported\n",
    "                      train_instance_type='ml.m5.12xlarge',  # adjust instance size as required\n",
    "                      hyperparameters=hyperparameters\n",
    "                     )\n",
    "\n",
    "estimator.fit()"
   ]
  },
  {
   "cell_type": "markdown",
   "metadata": {},
   "source": [
    "<br/>\n",
    "\n",
    "After training, your model/checkpoints will be available in model.tar.gz in S3\n",
    "\n",
    "<br/>\n",
    "\n",
    "---\n",
    "\n",
    "Comments? perrysc@amazon.com"
   ]
  },
  {
   "cell_type": "code",
   "execution_count": null,
   "metadata": {},
   "outputs": [],
   "source": []
  }
 ],
 "metadata": {
  "kernelspec": {
   "display_name": "Python 3",
   "language": "python",
   "name": "python3"
  },
  "language_info": {
   "codemirror_mode": {
    "name": "ipython",
    "version": 3
   },
   "file_extension": ".py",
   "mimetype": "text/x-python",
   "name": "python",
   "nbconvert_exporter": "python",
   "pygments_lexer": "ipython3",
   "version": "3.7.6"
  }
 },
 "nbformat": 4,
 "nbformat_minor": 4
}
